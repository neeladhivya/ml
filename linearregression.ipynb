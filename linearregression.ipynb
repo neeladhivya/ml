{
 "cells": [
  {
   "cell_type": "code",
   "execution_count": 1,
   "id": "150a3e5f",
   "metadata": {},
   "outputs": [
    {
     "name": "stdout",
     "output_type": "stream",
     "text": [
      "1D array :  [1 2 3 4 5]\n",
      "Datatype of 1D array:  int32\n",
      "Shape of 1D array:  (5,)\n",
      "Dimension of 1D array:  1\n",
      "\n",
      "\n",
      "2D array :  [[1 2 3]\n",
      " [4 5 6]\n",
      " [7 8 9]]\n",
      "Datatype of 2D array:  int32\n",
      "Shape of 2D array:  (3, 3)\n",
      "Dimension of 2D array:  2\n",
      "\n",
      "\n"
     ]
    }
   ],
   "source": [
    "import numpy as np\n",
    "array1 = np.array([1,2,3,4,5])\n",
    "print(\"1D array : \",array1)\n",
    "print(\"Datatype of 1D array: \",array1.dtype)\n",
    "print(\"Shape of 1D array: \",array1.shape)\n",
    "print(\"Dimension of 1D array: \",array1.ndim)\n",
    "print(\"\\n\")\n",
    "array2 = np.array([[1,2,3],[4,5,6],[7,8,9]])\n",
    "print(\"2D array : \",array2)\n",
    "print(\"Datatype of 2D array: \",array2.dtype)\n",
    "print(\"Shape of 2D array: \",array2.shape)\n",
    "print(\"Dimension of 2D array: \",array2.ndim)\n",
    "print(\"\\n\")\n"
   ]
  },
  {
   "cell_type": "code",
   "execution_count": 2,
   "id": "a907bf91",
   "metadata": {},
   "outputs": [
    {
     "name": "stdout",
     "output_type": "stream",
     "text": [
      "1D Random array :  [22 21 17 20 17]\n",
      "2D Random array :  [[19 21]\n",
      " [14 13]]\n",
      "2D Zero array :  [0 0 0 0 0]\n",
      "2D Zero array :  [[0 0]\n",
      " [0 0]]\n",
      "Diagonal values of 2d Random array : [19 13]\n",
      "First element of 1d Random array : 22\n",
      "First element of 2d Random array : 19\n",
      "Last element of 1d Random array : 17\n",
      "Last element of 2d Random array : 13\n",
      "2nd row of 2d Random array : [14 13]\n",
      "2nd column of 2d Random array : [21 13]\n",
      "No of elements in 1d random array :  5\n",
      "No of elements in 2d random array :  4\n"
     ]
    }
   ],
   "source": [
    "import numpy as np\n",
    "array_r = np.random.randint(13,25,5)\n",
    "print(\"1D Random array : \",array_r)\n",
    "array_r2 = np.random.randint(13,25,(2,2))\n",
    "print(\"2D Random array : \",array_r2)\n",
    "array_z = np.zeros(5,dtype=int)\n",
    "print(\"2D Zero array : \",array_z)\n",
    "array_z2 = np.zeros((2,2),dtype=int)\n",
    "print(\"2D Zero array : \",array_z2)\n",
    "print(\"Diagonal values of 2d Random array :\",np.diagonal(array_r2))\n",
    "print(\"First element of 1d Random array :\",array_r[0])\n",
    "print(\"First element of 2d Random array :\",array_r2[0,0])\n",
    "print(\"Last element of 1d Random array :\",array_r[-1])\n",
    "print(\"Last element of 2d Random array :\",array_r2[-1,-1])\n",
    "print(\"2nd row of 2d Random array :\",array_r2[1,:])\n",
    "print(\"2nd column of 2d Random array :\",array_r2[:,1])\n",
    "print(\"No of elements in 1d random array : \",array_r.size)\n",
    "print(\"No of elements in 2d random array : \",array_r2.size)\n"
   ]
  },
  {
   "cell_type": "code",
   "execution_count": 3,
   "id": "27cfe117",
   "metadata": {},
   "outputs": [
    {
     "name": "stdout",
     "output_type": "stream",
     "text": [
      "Matrix A :\n",
      "[[10  9]\n",
      " [ 2  3]]\n",
      "Matrix B :\n",
      "[[13 14]\n",
      " [12  9]]\n",
      "Determinant of A :  12\n",
      "Determinant of B :  -51\n",
      "A + B :\n",
      "[[23 23]\n",
      " [14 12]]\n",
      "A - B :\n",
      "[[ -3  -5]\n",
      " [-10  -6]]\n",
      "A * B :\n",
      "[[238 221]\n",
      " [ 62  55]]\n",
      "A / B :\n",
      "[[0.76923077 0.64285714]\n",
      " [0.16666667 0.33333333]]\n",
      "Transpose of A :  [[10  2]\n",
      " [ 9  3]]\n",
      "Transpose of B :  [[13 12]\n",
      " [14  9]]\n",
      "Vectors:\n",
      "[10  2  0]\n",
      "[13 12  0]\n",
      "Cross of A and B :  [ 0  0 94]\n",
      "Dot of A and B :  154\n"
     ]
    }
   ],
   "source": [
    "import numpy as np\n",
    "A = np.array([[10,9],[2,3]])\n",
    "B = np.array([[13,14],[12,9]])\n",
    "print(\"Matrix A :\")\n",
    "print(A)\n",
    "print(\"Matrix B :\")\n",
    "print(B)\n",
    "detA = int(np.linalg.det(A))\n",
    "print(\"Determinant of A : \",detA)\n",
    "detB = int(np.linalg.det(B))\n",
    "print(\"Determinant of B : \",detB)\n",
    "add = np.add(A,B)\n",
    "print(\"A + B :\")\n",
    "print(add)\n",
    "sub = np.subtract(A,B)\n",
    "print(\"A - B :\")\n",
    "print(sub)\n",
    "mul = np.dot(A,B)\n",
    "print(\"A * B :\")\n",
    "print(mul)\n",
    "div = np.divide(A,B)\n",
    "print(\"A / B :\")\n",
    "print(div)\n",
    "TA = np.transpose(A)\n",
    "TB = np.transpose(B)\n",
    "print(\"Transpose of A : \",TA)\n",
    "print(\"Transpose of B : \",TB)\n",
    "A_3d = np.array([A[0,0],A[1,0],0])\n",
    "B_3d = np.array([B[0,0],B[1,0],0])\n",
    "print(\"Vectors:\")\n",
    "print(A_3d)\n",
    "print(B_3d)\n",
    "print(\"Cross of A and B : \",np.cross(A_3d,B_3d))\n",
    "print(\"Dot of A and B : \",np.dot(A_3d,B_3d))\n"
   ]
  },
  {
   "cell_type": "code",
   "execution_count": 4,
   "id": "ee2512d3",
   "metadata": {},
   "outputs": [
    {
     "name": "stdout",
     "output_type": "stream",
     "text": [
      "1D Range values:\n",
      "[ 0  1  2  3  4  5  6  7  8  9 10 11 12]\n",
      "2D Range values: [[ 0  1  2  3  4  5  6  7  8  9 10 11 12]]\n"
     ]
    }
   ],
   "source": [
    "import numpy as np\n",
    "range1 = np.arange(13)\n",
    "print(\"1D Range values:\")\n",
    "print(range1)\n",
    "range2 = np.arange(13).reshape(1,13)\n",
    "print(\"2D Range values:\",range2)\n"
   ]
  },
  {
   "cell_type": "code",
   "execution_count": 5,
   "id": "e10cd1c8",
   "metadata": {},
   "outputs": [
    {
     "name": "stdout",
     "output_type": "stream",
     "text": [
      "1D Range values:\n",
      "[ 0  1  2  3  4  5  6  7  8  9 10 11 12 13 14 15 16 17 18 19 20 21 22 23\n",
      " 24 25]\n",
      "Reshaped values: [[ 0  1  2  3  4  5  6  7  8  9 10 11 12]\n",
      " [13 14 15 16 17 18 19 20 21 22 23 24 25]]\n"
     ]
    }
   ],
   "source": [
    "import numpy as np\n",
    "range1 = np.arange(26)\n",
    "print(\"1D Range values:\")\n",
    "print(range1)\n",
    "reshape = np.arange(26).reshape(2,13)\n",
    "print(\"Reshaped values:\",reshape)\n"
   ]
  },
  {
   "cell_type": "code",
   "execution_count": 6,
   "id": "240529ad",
   "metadata": {},
   "outputs": [
    {
     "name": "stdout",
     "output_type": "stream",
     "text": [
      "Min: 13\n",
      "Max: 17\n",
      "Sum: 92\n",
      "Mean: 15.333333333333334\n",
      "Median: 15.5\n",
      "Mode: ModeResult(mode=17, count=2)\n",
      "Std: 1.4907119849998596\n"
     ]
    }
   ],
   "source": [
    "import numpy as np\n",
    "from scipy import stats\n",
    "arr = np.array([13,14,15,16,17,17])\n",
    "min = np.min(arr)\n",
    "max = np.max(arr)\n",
    "sum = np.sum(arr)\n",
    "mean = np.mean(arr)\n",
    "median = np.median(arr)\n",
    "mode = stats.mode(arr)\n",
    "sd = np.std(arr)\n",
    "print(f\"Min: {min}\")\n",
    "print(f\"Max: {max}\")\n",
    "print(f\"Sum: {sum}\")\n",
    "print(f\"Mean: {mean}\")\n",
    "print(f\"Median: {median}\")\n",
    "print(f\"Mode: {mode}\")\n",
    "print(f\"Std: {sd}\")\n"
   ]
  },
  {
   "cell_type": "code",
   "execution_count": 7,
   "id": "8ff3cf57",
   "metadata": {},
   "outputs": [
    {
     "name": "stdout",
     "output_type": "stream",
     "text": [
      "Original array : [  4   5   1   2  13  14  19  21 133 134 135]\n",
      "Boolean mask : [False False False False False  True  True  True  True  True  True]\n",
      "Filtered array : [ 14  19  21 133 134 135]\n",
      "Count > 13  : 6\n"
     ]
    }
   ],
   "source": [
    "import numpy as np\n",
    "arr = np.array([4,5,1,2,13,14,19,21,133,134,135])\n",
    "mask = arr>13\n",
    "filtered = arr[mask]\n",
    "count13 = np.sum(mask)\n",
    "print(f\"Original array : {arr}\")\n",
    "print(f\"Boolean mask : {mask}\")\n",
    "print(f\"Filtered array : {filtered}\")\n",
    "print(f\"Count > 13  : {count13}\")\n"
   ]
  },
  {
   "cell_type": "code",
   "execution_count": 8,
   "id": "83dc5095",
   "metadata": {},
   "outputs": [
    {
     "name": "stdout",
     "output_type": "stream",
     "text": [
      "Original array : [     4      5      1      2     13     14     19     21    133    134\n",
      "    135   1333 131313     14]\n",
      "Elements at indices[1, 13] : [ 5 14]\n",
      "Other : [     4      1      2     13     14     19     21    133    134    135\n",
      "   1333 131313]\n"
     ]
    }
   ],
   "source": [
    "import numpy as np\n",
    "arr = np.array([4,5,1,2,13,14,19,21,133,134,135,1333,131313,14])\n",
    "indices = [1,13]\n",
    "specific = arr[indices]\n",
    "mask = np.ones(len(arr),dtype=bool)\n",
    "mask[indices] = False\n",
    "fil = arr[mask]\n",
    "print(f\"Original array : {arr}\")\n",
    "print(f\"Elements at indices{indices} : {specific}\")\n",
    "print(f\"Other : {fil}\")\n"
   ]
  },
  {
   "cell_type": "code",
   "execution_count": 9,
   "id": "81e1b595",
   "metadata": {},
   "outputs": [
    {
     "name": "stdout",
     "output_type": "stream",
     "text": [
      "Original:\n",
      "[('Hannah', 13, 'O') ('Fasil', 15, 'A') ('Heera', 16, 'B')]\n",
      "Names of students :\n",
      "['Hannah' 'Fasil' 'Heera']\n",
      "Ages of students :\n",
      "[13 15 16]\n",
      "Grades of students :\n",
      "['O' 'A' 'B']\n",
      "Modified\n",
      "[('Hannah', 13, 'O') ('Fasil', 13, 'O') ('Clay', 16, 'B')]\n"
     ]
    }
   ],
   "source": [
    "import numpy as np\n",
    "student_d = np.dtype([('name','U20'),('age','i4'),('grade','U1')])\n",
    "students = np.array([('Hannah',13,'O'),\n",
    "                    ('Fasil',15,'A'),\n",
    "                    ('Heera',16,'B')],dtype=student_d)\n",
    "\n",
    "print(\"Original:\")\n",
    "print(students)\n",
    "print(\"Names of students :\")\n",
    "print(students['name'])\n",
    "\n",
    "print(\"Ages of students :\")\n",
    "print(students['age'])\n",
    "print(\"Grades of students :\")\n",
    "print(students['grade'])\n",
    "students['age'][1] = 13\n",
    "students['grade'][1] = 'O'\n",
    "students['name'][2] = 'Clay'\n",
    "print(\"Modified\")\n",
    "print(students)\n"
   ]
  },
  {
   "cell_type": "code",
   "execution_count": 10,
   "id": "8051cf17",
   "metadata": {},
   "outputs": [
    {
     "name": "stdout",
     "output_type": "stream",
     "text": [
      "Regression Equation: y = 50.00 + (5.00) * x1 + (-0.00) * x2\n",
      "Intercept (b): 49.999999999999204\n",
      "Slope for study hours (x1): 5.000000000000227\n",
      "Slope for practice tests (x2): -4.547473508864641e-13\n",
      "Predicted Score for Study Hours = 7, Practice Tests = 4: 84.99999999999898\n"
     ]
    }
   ],
   "source": [
    "import numpy as np\n",
    "X1 = np.array([2, 3, 4, 5, 6])  \n",
    "X2 = np.array([1, 2, 2, 3, 3])  \n",
    "y = np.array([60, 65, 70, 75, 80]) \n",
    "X = np.column_stack((np.ones(len(X1)), X1, X2))\n",
    "XtX = np.dot(X.T, X)\n",
    "XtX_inverse = np.linalg.inv(XtX)\n",
    "XtY = np.dot(X.T, y)\n",
    "theta = np.dot(XtX_inverse, XtY)\n",
    "intercept, slope1, slope2 = theta\n",
    "print(f\"Regression Equation: y = {intercept:.2f} + ({slope1:.2f}) * x1 + ({slope2:.2f}) * x2\")\n",
    "print(f\"Intercept (b): {intercept}\")\n",
    "print(f\"Slope for study hours (x1): {slope1}\")\n",
    "print(f\"Slope for practice tests (x2): {slope2}\")\n",
    "xnew = np.array([1, 7, 4])\n",
    "predicted = np.dot(xnew, theta)\n",
    "print(f\"Predicted Score for Study Hours = 7, Practice Tests = 4: {predicted}\")\n"
   ]
  },
  {
   "cell_type": "code",
   "execution_count": null,
   "id": "1bb32d1e",
   "metadata": {},
   "outputs": [],
   "source": []
  }
 ],
 "metadata": {
  "kernelspec": {
   "display_name": "Python 3 (ipykernel)",
   "language": "python",
   "name": "python3"
  },
  "language_info": {
   "codemirror_mode": {
    "name": "ipython",
    "version": 3
   },
   "file_extension": ".py",
   "mimetype": "text/x-python",
   "name": "python",
   "nbconvert_exporter": "python",
   "pygments_lexer": "ipython3",
   "version": "3.11.5"
  }
 },
 "nbformat": 4,
 "nbformat_minor": 5
}
